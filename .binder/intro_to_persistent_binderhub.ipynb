{
 "cells": [
  {
   "cell_type": "markdown",
   "metadata": {},
   "source": [
    "# Introduction to persistent BinderHub"
   ]
  },
  {
   "cell_type": "markdown",
   "metadata": {},
   "source": [
    "## How can I manage my projects?"
   ]
  },
  {
   "cell_type": "markdown",
   "metadata": {},
   "source": [
    "After launching a new repository, it will appear in Your Projects:  <ol><li>Concurrently store up to 5 projects</li><li>Control the projects you are currently working on</li><li>Directly link to the project repositories</li></ol><img alt='GESIS Notebooks' src='https://notebooks.gesis.org/static/images/faq/YourProjects.png' id='faq-img'>"
   ]
  },
  {
   "cell_type": "markdown",
   "metadata": {},
   "source": [
    "## What is a project?"
   ]
  },
  {
   "cell_type": "markdown",
   "metadata": {},
   "source": [
    "A project is simply a binder-ready repository."
   ]
  },
  {
   "cell_type": "markdown",
   "metadata": {},
   "source": [
    "## Where can I find binder-ready repositories?"
   ]
  },
  {
   "cell_type": "markdown",
   "metadata": {},
   "source": [
    "The Binder Federation maintains a machine readable <a href='https://archive.analytics.mybinder.org/' target='_blank'>archive</a> of projects that are binder-ready and suited for the import in GESIS Notebooks. A gallery for you to browse is available at <a href='/gallery/' target='_blank'>https://notebooks.gesis.org/gallery/</a>."
   ]
  },
  {
   "cell_type": "markdown",
   "metadata": {},
   "source": [
    "## How can I make my Notebooks binder-ready?"
   ]
  },
  {
   "cell_type": "markdown",
   "metadata": {},
   "source": [
    "For more information about making a Notebook binder-ready, take a look at the <a href='https://mybinder.readthedocs.io/en/latest/index.html#how-to-guides-and-tutorials' target='_blank'>binder user guide</a>."
   ]
  }
 ],
 "metadata": {
  "kernelspec": {
   "display_name": "Python 3",
   "language": "python",
   "name": "python3"
  },
  "language_info": {
   "codemirror_mode": {
    "name": "ipython",
    "version": 3
   },
   "file_extension": ".py",
   "mimetype": "text/x-python",
   "name": "python",
   "nbconvert_exporter": "python",
   "pygments_lexer": "ipython3",
   "version": "3.7.6"
  }
 },
 "nbformat": 4,
 "nbformat_minor": 4
}
